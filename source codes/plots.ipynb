{
 "cells": [
  {
   "cell_type": "code",
   "execution_count": 5,
   "metadata": {
    "collapsed": true,
    "pycharm": {
     "name": "#%%\n"
    }
   },
   "outputs": [
    {
     "name": "stdout",
     "output_type": "stream",
     "text": [
      "[0, 5, 10, 15, 20, 25, 30, 35, 40, 45, 50, 55, 60] [3.9594168663024902, 5.7074973583221436, 7.5847272872924805, 7.47594690322876, 8.753920316696167, 9.243743419647217, 10.665492057800293, 10.763849020004272, 11.97269082069397, 13.503905534744263, 14.653976440429688, 16.726867198944092, 18.34409737586975]\n"
     ]
    }
   ],
   "source": [
    "import matplotlib.pyplot as plt\n",
    "p = []\n",
    "t = []\n",
    "with open('Data_loss.txt', 'r') as f:\n",
    "    data = f.readlines()\n",
    "    for l in data:\n",
    "        p.append(int(l.split(',')[0].split('=')[1]))\n",
    "        t.append(float(l.split(',')[1].strip()))\n",
    "print(p, t)"
   ]
  }
 ],
 "metadata": {
  "kernelspec": {
   "display_name": "Python 3",
   "language": "python",
   "name": "python3"
  },
  "language_info": {
   "codemirror_mode": {
    "name": "ipython",
    "version": 2
   },
   "file_extension": ".py",
   "mimetype": "text/x-python",
   "name": "python",
   "nbconvert_exporter": "python",
   "pygments_lexer": "ipython2",
   "version": "2.7.6"
  }
 },
 "nbformat": 4,
 "nbformat_minor": 0
}